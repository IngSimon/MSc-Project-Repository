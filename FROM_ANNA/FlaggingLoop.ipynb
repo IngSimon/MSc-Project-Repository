{
 "cells": [
  {
   "cell_type": "code",
   "execution_count": 36,
   "metadata": {},
   "outputs": [],
   "source": [
    "import numpy as np\n",
    "import pylab as pl"
   ]
  },
  {
   "cell_type": "markdown",
   "metadata": {},
   "source": [
    "make an array of channel data:"
   ]
  },
  {
   "cell_type": "code",
   "execution_count": 37,
   "metadata": {},
   "outputs": [],
   "source": [
    "nchan = 1024\n",
    "freq_data = np.ones(nchan)"
   ]
  },
  {
   "cell_type": "markdown",
   "metadata": {},
   "source": [
    "set flagging percentage:"
   ]
  },
  {
   "cell_type": "code",
   "execution_count": 38,
   "metadata": {},
   "outputs": [],
   "source": [
    "flag_perc = 0.3"
   ]
  },
  {
   "cell_type": "markdown",
   "metadata": {},
   "source": [
    "set the maximum width of a flagged section in terms of total channel numbers:"
   ]
  },
  {
   "cell_type": "code",
   "execution_count": 39,
   "metadata": {},
   "outputs": [],
   "source": [
    "maxwid = 50"
   ]
  },
  {
   "cell_type": "markdown",
   "metadata": {},
   "source": [
    "then loop through, flagging as you go and iteratively checking the flagged percentage:"
   ]
  },
  {
   "cell_type": "code",
   "execution_count": 40,
   "metadata": {},
   "outputs": [
    {
     "name": "stdout",
     "output_type": "stream",
     "text": [
      "('flagging ', 39, ' channels starting with channel ', 26)\n",
      "('flagging ', 49, ' channels starting with channel ', 520)\n",
      "('flagging ', 2, ' channels starting with channel ', 908)\n",
      "('flagging ', 39, ' channels starting with channel ', 255)\n",
      "('flagging ', 11, ' channels starting with channel ', 408)\n",
      "('flagging ', 9, ' channels starting with channel ', 684)\n",
      "('flagging ', 33, ' channels starting with channel ', 914)\n",
      "('flagging ', 17, ' channels starting with channel ', 1008)\n",
      "('flagging ', 44, ' channels starting with channel ', 693)\n",
      "('flagging ', 50, ' channels starting with channel ', 648)\n",
      "('flagging ', 8, ' channels starting with channel ', 545)\n",
      "('flagging ', 35, ' channels starting with channel ', 399)\n",
      "('flagging ', 25, ' channels starting with channel ', 349)\n",
      "('Percentage flagged: ', 0.3193359375)\n"
     ]
    }
   ],
   "source": [
    "while True:\n",
    "    \n",
    "    # choose a random position and flagging width:\n",
    "    pos = np.random.randint(0,nchan)\n",
    "    wid = np.random.randint(1,maxwid+1)\n",
    "    \n",
    "    # check end of bandpass:\n",
    "    if (pos+wid)>nchan:\n",
    "        wid = (pos+wid)-nchan\n",
    "\n",
    "    print(\"flagging \",wid,\" channels starting with channel \",pos)\n",
    "    \n",
    "    # apply flagging\n",
    "    freq_data[pos:pos+wid] = 0.0\n",
    "    \n",
    "    # check flagged percentage:\n",
    "    ndata = np.count_nonzero(freq_data)\n",
    "    perc = float(ndata)/float(nchan)\n",
    "    \n",
    "    # if flagged percentage exceeds specification: exit loop\n",
    "    if (perc<(1-flag_perc)):\n",
    "        print(\"Percentage flagged: \",1-perc)\n",
    "        break"
   ]
  },
  {
   "cell_type": "code",
   "execution_count": 41,
   "metadata": {},
   "outputs": [
    {
     "data": {
      "image/png": "[encoded data removed]",
      "text/plain": [
       "<Figure size 432x288 with 1 Axes>"
      ]
     },
     "metadata": {},
     "output_type": "display_data"
    }
   ],
   "source": [
    "pl.plot(freq_data)\n",
    "pl.show()"
   ]
  },
  {
   "cell_type": "code",
   "execution_count": null,
   "metadata": {},
   "outputs": [],
   "source": []
  }
 ],
 "metadata": {
  "kernelspec": {
   "display_name": "Python 2",
   "language": "python",
   "name": "python2"
  },
  "language_info": {
   "codemirror_mode": {
    "name": "ipython",
    "version": 2
   },
   "file_extension": ".py",
   "mimetype": "text/x-python",
   "name": "python",
   "nbconvert_exporter": "python",
   "pygments_lexer": "ipython2",
   "version": "2.7.15"
  }
 },
 "nbformat": 4,
 "nbformat_minor": 2
}
