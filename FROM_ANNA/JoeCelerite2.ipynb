{
 "cells": [
  {
   "cell_type": "code",
   "execution_count": 59,
   "metadata": {},
   "outputs": [],
   "source": [
    "import autograd.numpy as np\n",
    "import pylab as pl\n",
    "import os,sys\n",
    "import celerite\n",
    "from celerite import terms\n",
    "import scipy.optimize as op\n",
    "import emcee\n",
    "import corner\n",
    "from tqdm import tqdm, tqdm_notebook"
   ]
  },
  {
   "cell_type": "code",
   "execution_count": 60,
   "metadata": {},
   "outputs": [],
   "source": [
    "const_c = 3e8"
   ]
  },
  {
   "cell_type": "code",
   "execution_count": 61,
   "metadata": {},
   "outputs": [],
   "source": [
    "class CustomTerm(terms.Term):\n",
    "    parameter_names = (\"log_a\", \"log_c\", \"log_P\")\n",
    " \n",
    "    def get_real_coefficients(self, params):\n",
    "        log_a, log_c, log_P = params\n",
    "        \n",
    "        return (\n",
    "            np.exp(log_a) * 0.5, np.exp(log_c),\n",
    "        )\n",
    " \n",
    "    def get_complex_coefficients(self, params):\n",
    "        log_a, log_c, log_P = params\n",
    "        \n",
    "        return (\n",
    "            np.exp(log_a) / (2.0), 0.0,\n",
    "            np.exp(log_c), 2*np.pi*np.exp(-log_P),\n",
    "        )"
   ]
  },
  {
   "cell_type": "markdown",
   "metadata": {},
   "source": [
    "Specify where the data are:"
   ]
  },
  {
   "cell_type": "code",
   "execution_count": 62,
   "metadata": {},
   "outputs": [],
   "source": [
    "filename = \"P_array_test.npy\"\n",
    "qudata = np.load(filename)"
   ]
  },
  {
   "cell_type": "markdown",
   "metadata": {},
   "source": [
    "make an array of the true f.d. values:"
   ]
  },
  {
   "cell_type": "code",
   "execution_count": 63,
   "metadata": {},
   "outputs": [
    {
     "name": "stdout",
     "output_type": "stream",
     "text": [
      "(10000,)\n",
      "-81.08494174004652\n"
     ]
    }
   ],
   "source": [
    "filename = \"RMs.npy\"\n",
    "rmdata = np.load(filename)\n",
    "print(rmdata.shape)\n",
    "print(rmdata[163])"
   ]
  },
  {
   "cell_type": "code",
   "execution_count": 64,
   "metadata": {},
   "outputs": [],
   "source": [
    "channels = 135 \n",
    "freq_min = 8.59079e8 \n",
    "freq_max = 1.69933e9\n",
    "freq = np.linspace(freq_min, freq_max, channels)"
   ]
  },
  {
   "cell_type": "markdown",
   "metadata": {},
   "source": [
    "extract QU for first source:"
   ]
  },
  {
   "cell_type": "code",
   "execution_count": 73,
   "metadata": {},
   "outputs": [],
   "source": [
    "stokesQ_R = qudata[163,:,0]\n",
    "stokesU_R = qudata[163,:,1]\n",
    "lam2_R = (const_c/freq)**2"
   ]
  },
  {
   "cell_type": "markdown",
   "metadata": {},
   "source": [
    "reverse the axis so that the wavelengths are in the correct order:"
   ]
  },
  {
   "cell_type": "code",
   "execution_count": 74,
   "metadata": {},
   "outputs": [],
   "source": [
    "lam2_R = lam2_R[::-1]\n",
    "stokesQ_R = stokesQ_R[::-1]\n",
    "stokesU_R = stokesU_R[::-1]"
   ]
  },
  {
   "cell_type": "markdown",
   "metadata": {},
   "source": [
    "set up the celerite custom kernel:"
   ]
  },
  {
   "cell_type": "code",
   "execution_count": 75,
   "metadata": {},
   "outputs": [],
   "source": [
    "log_a = 0.1; log_c = 0.1; log_P = 1.0 \n",
    "\n",
    "kernel = CustomTerm(log_a, log_c, log_P)\n",
    "gp = celerite.GP(kernel, mean=0.0)\n",
    "\n",
    "gp.compute(lam2_R)"
   ]
  },
  {
   "cell_type": "markdown",
   "metadata": {},
   "source": [
    "calculate the loglikelihood with those randomly chosen initial parameters:"
   ]
  },
  {
   "cell_type": "code",
   "execution_count": 76,
   "metadata": {},
   "outputs": [
    {
     "name": "stdout",
     "output_type": "stream",
     "text": [
      "Initial log-likelihood: 316.51527154149846\n",
      "Initial log-likelihood: 316.5152715495167\n"
     ]
    }
   ],
   "source": [
    "print(\"Initial log-likelihood: {0}\".format(gp.log_likelihood(stokesQ_R)))\n",
    "print(\"Initial log-likelihood: {0}\".format(gp.log_likelihood(stokesU_R)))"
   ]
  },
  {
   "cell_type": "markdown",
   "metadata": {},
   "source": [
    "calculate the posterior mean and variance for those randomly chosen initial parameters in the flagged regions. First for Q:"
   ]
  },
  {
   "cell_type": "code",
   "execution_count": 77,
   "metadata": {},
   "outputs": [],
   "source": [
    "t1 = np.linspace(np.min(lam2_R), np.max(lam2_R), 512)\n",
    "t1 = lam2_R"
   ]
  },
  {
   "cell_type": "markdown",
   "metadata": {},
   "source": [
    "define the negative loglikelihood:"
   ]
  },
  {
   "cell_type": "code",
   "execution_count": 78,
   "metadata": {},
   "outputs": [],
   "source": [
    "def nll(p, y1, y2, gp):\n",
    "    \n",
    "    # Update the kernel parameters:\n",
    "    gp.set_parameter_vector(p)\n",
    "    \n",
    "    #  Compute the loglikelihood:\n",
    "    ll1 = gp.log_likelihood(y1)\n",
    "    ll2 = gp.log_likelihood(y2)\n",
    "    ll = ll1 + ll2\n",
    " \n",
    "    return -ll if np.isfinite(ll) else 1e25"
   ]
  },
  {
   "cell_type": "markdown",
   "metadata": {},
   "source": [
    "define the gradient of the negative loglikelihood:"
   ]
  },
  {
   "cell_type": "code",
   "execution_count": 79,
   "metadata": {},
   "outputs": [],
   "source": [
    "def grad_nll(p, y1, y2, gp):\n",
    " \n",
    "    # Update the kernel parameters:\n",
    "    gp.set_parameter_vector(p)\n",
    "    \n",
    "    #  Compute the gradient of the loglikelihood:\n",
    "    gll = gp.grad_log_likelihood(y1)[1] + gp.grad_log_likelihood(y2)[1]\n",
    " \n",
    "    return -gll"
   ]
  },
  {
   "cell_type": "code",
   "execution_count": 80,
   "metadata": {},
   "outputs": [
    {
     "name": "stdout",
     "output_type": "stream",
     "text": [
      "Results:  [-15.55655217  -0.207348    -4.32463989] [1.75337672e-07 8.12736769e-01 1.32383165e-02]\n",
      "Final log-likelihood: 2572.790441600812\n",
      "RM:  237.3105870349515  rad/m^2\n",
      "True\n"
     ]
    }
   ],
   "source": [
    "# set an initial guess parameter vector:\n",
    "p0 = gp.get_parameter_vector()\n",
    "p0 = np.array([-15.,-0.,-5.])\n",
    "\n",
    "# set the prior bounds on the parameters to be fitted (log space):\n",
    "bnds = ((-25.,-5.),(-5.,0.),(-5.,0.)) \n",
    "\n",
    "# run optimization:\n",
    "results = op.minimize(nll, p0, method='L-BFGS-B', jac=grad_nll, bounds=bnds, tol=1e-10, args=(stokesQ_R, stokesU_R, gp)) #\n",
    "\n",
    "print(\"Results: \",results.x, np.exp(results.x))\n",
    "print(\"Final log-likelihood: {0}\".format(-results.fun))\n",
    "print(\"RM: \",np.pi/np.exp(results.x[2]),\" rad/m^2\")\n",
    "print(results.success)"
   ]
  },
  {
   "cell_type": "code",
   "execution_count": 15,
   "metadata": {},
   "outputs": [],
   "source": [
    "def predict(xdat,p0,p1,p2):\n",
    "    \n",
    "    p = np.array([p0,p1,p2])\n",
    "    gp.set_parameter_vector(p)\n",
    "    \n",
    "    l2 = xdat[0,:]\n",
    "    stokesQ_R = xdat[1,:]\n",
    "    stokesU_R = xdat[2,:]\n",
    "    \n",
    "    mu1, cov1 = gp.predict(stokesQ_R, l2)\n",
    "    mu2, cov2 = gp.predict(stokesU_R, l2)\n",
    "    \n",
    "    mu = np.hstack((mu1,mu2))\n",
    "    \n",
    "    return mu"
   ]
  },
  {
   "cell_type": "code",
   "execution_count": 16,
   "metadata": {},
   "outputs": [
    {
     "name": "stdout",
     "output_type": "stream",
     "text": [
      "[4.21844735e-08 9.60602922e-02 3.17135063e-02]\n",
      "[4.53338577e-17 1.11395248e-10 3.54210100e-11]\n"
     ]
    }
   ],
   "source": [
    "xdata = (lam2_R, stokesQ_R, stokesU_R)\n",
    "ydata = np.hstack((stokesQ_R, stokesU_R))\n",
    "popt, pcov = op.curve_fit(predict, xdata=xdata, ydata=ydata, p0 = np.exp(results.x))\n",
    "print(popt)\n",
    "print(np.sqrt(np.diag(pcov)))"
   ]
  },
  {
   "cell_type": "code",
   "execution_count": 81,
   "metadata": {},
   "outputs": [],
   "source": [
    "gp.set_parameter_vector(results.x) #initially it was s, p works well\n",
    "\n",
    "mu, cov = gp.predict(stokesQ_R, t1) #return_cov=False)\n",
    "std = np.sqrt(np.diag(cov))\n",
    "\n",
    "mu1, cov1 = gp.predict(stokesU_R, t1) #return_cov=False)\n",
    "std1 = np.sqrt(np.diag(cov1))"
   ]
  },
  {
   "cell_type": "code",
   "execution_count": 82,
   "metadata": {},
   "outputs": [
    {
     "data": {
      "image/png": "[encoded data removed]",
      "text/plain": [
       "<Figure size 432x288 with 1 Axes>"
      ]
     },
     "metadata": {
      "needs_background": "light"
     },
     "output_type": "display_data"
    }
   ],
   "source": [
    "ax = pl.subplot(111)\n",
    "\n",
    "pl.plot(t1,mu, linestyle='none', marker='.', color = 'red')\n",
    "pl.plot(t1,mu1, linestyle='none', marker='.', color = 'red')\n",
    "\n",
    "pl.plot(lam2_R,stokesQ_R, linestyle='none', marker='.', color = 'darkblue')\n",
    "pl.plot(lam2_R,stokesU_R, linestyle='none', marker='.', color = 'darkorange')\n",
    "\n",
    "ax.fill_between(t1,mu-std,mu+std, facecolor='lightgray') #, lw=0, interpolate=True)\n",
    "ax.fill_between(t1,mu1-std1,mu1+std1, facecolor='lightgray')\n",
    "\n",
    "pl. title('Maximum likelihood prediction')\n",
    "pl.ylabel('stokes parameters ')\n",
    "pl.xlabel('$\\lambda^2 [m^2]$')\n",
    "\n",
    "pl.show()"
   ]
  },
  {
   "cell_type": "code",
   "execution_count": 56,
   "metadata": {},
   "outputs": [
    {
     "data": {
      "application/vnd.jupyter.widget-view+json": {
       "model_id": "70286df691ed4a8d99df6596e31bfcfe",
       "version_major": 2,
       "version_minor": 0
      },
      "text/plain": [
       "HBox(children=(IntProgress(value=0, max=10000), HTML(value='')))"
      ]
     },
     "metadata": {},
     "output_type": "display_data"
    },
    {
     "name": "stdout",
     "output_type": "stream",
     "text": [
      "\n"
     ]
    }
   ],
   "source": [
    "rm_out = np.zeros(len(rmdata))\n",
    "rm_suc = np.full(len(rmdata), False)\n",
    "\n",
    "for i in tqdm_notebook(range(0,qudata.shape[0])):\n",
    "    \n",
    "    stokesQ_R = qudata[i,::-1,0]\n",
    "    stokesU_R = qudata[i,::-1,1]\n",
    "    \n",
    "    # run optimization:\n",
    "    p0 = np.array([-15.,-0.,-5.])\n",
    "    results = op.minimize(nll, p0, method='L-BFGS-B', jac=grad_nll, bounds=bnds, args=(stokesQ_R, stokesU_R, gp)) #\n",
    "    \n",
    "    pharr = np.arctan2(stokesU_R,stokesQ_R)\n",
    "    phase = np.mean(pharr)*180./np.pi\n",
    "    phsig = np.sign(phase)\n",
    "\n",
    "    rm_out[i] = phsig*np.pi/np.exp(results.x[2])\n",
    "    rm_suc[i] = results.success"
   ]
  },
  {
   "cell_type": "code",
   "execution_count": 58,
   "metadata": {},
   "outputs": [
    {
     "data": {
      "image/png": "[encoded data removed]",
      "text/plain": [
       "<Figure size 432x288 with 1 Axes>"
      ]
     },
     "metadata": {
      "needs_background": "light"
     },
     "output_type": "display_data"
    },
    {
     "name": "stdout",
     "output_type": "stream",
     "text": [
      "69\n"
     ]
    },
    {
     "data": {
      "image/png": "[encoded data removed]",
      "text/plain": [
       "<Figure size 432x288 with 1 Axes>"
      ]
     },
     "metadata": {
      "needs_background": "light"
     },
     "output_type": "display_data"
    },
    {
     "name": "stdout",
     "output_type": "stream",
     "text": [
      "163\n"
     ]
    }
   ],
   "source": [
    "pl.subplot(111)\n",
    "pl.scatter(rmdata,np.abs(np.abs(rmdata)-np.abs(rm_out)),c=rm_suc)\n",
    "pl.show()\n",
    "rmdiff = np.abs(np.abs(rmdata)-np.abs(rm_out))\n",
    "rmdiff2 = rmdiff[np.where(rmdiff>20)]\n",
    "print(len(rmdiff2))\n",
    "pl.subplot(111)\n",
    "pl.scatter(rmdata[np.where(rmdiff>20)],rm_out[np.where(rmdiff>20)],c=rm_suc[np.where(rmdiff>20)])\n",
    "pl.show()\n",
    "print(np.argmax(rmdiff))"
   ]
  },
  {
   "cell_type": "code",
   "execution_count": 83,
   "metadata": {},
   "outputs": [],
   "source": [
    "# set the loglikelihood:\n",
    "def lnlike(p, x, y1, y2):\n",
    " \n",
    "    ln_a = p[0]\n",
    "    ln_c = p[1]      \n",
    "    ln_p = p[2]  \n",
    "\n",
    "    p0 = np.array([ln_a,ln_c,ln_p])\n",
    " \n",
    "    # update kernel parameters:\n",
    "    gp.set_parameter_vector(p0)\n",
    " \n",
    "    # calculate the likelihood:\n",
    "    ll1 = gp.log_likelihood(y1)\n",
    "    ll2 = gp.log_likelihood(y2)\n",
    "    ll = ll1 + ll2\n",
    "    \n",
    "    return ll if np.isfinite(ll) else 1e25"
   ]
  },
  {
   "cell_type": "code",
   "execution_count": 84,
   "metadata": {},
   "outputs": [],
   "source": [
    "# set the logprior\n",
    "def lnprior(p):\n",
    " \n",
    "    lna = p[0]\n",
    "    lnc = p[1]\n",
    "    lnP = p[2]\n",
    " \n",
    "    if (-25.<lna<15.) and (-25.<lnc<15.) and (-15<lnP<15.):    \n",
    "        return 0.0\n",
    " \n",
    "    return -np.inf"
   ]
  },
  {
   "cell_type": "code",
   "execution_count": 85,
   "metadata": {},
   "outputs": [],
   "source": [
    "# set the logposterior:\n",
    "def lnprob(p, x, y1, y2):\n",
    " \n",
    "    lp = lnprior(p)\n",
    " \n",
    "    return lp + lnlike(p, x, y1, y2) if np.isfinite(lp) else -np.inf"
   ]
  },
  {
   "cell_type": "code",
   "execution_count": 86,
   "metadata": {},
   "outputs": [],
   "source": [
    "x_train = lam2_R\n",
    "y_1 = stokesQ_R\n",
    "y_2 = stokesU_R\n",
    "\n",
    "data = (x_train,y_1,y_2)"
   ]
  },
  {
   "cell_type": "code",
   "execution_count": 87,
   "metadata": {},
   "outputs": [
    {
     "name": "stdout",
     "output_type": "stream",
     "text": [
      "Initial guesses:  [-15.55655217  -0.207348    -4.32463989]\n",
      "Number of parameters:  3\n"
     ]
    }
   ],
   "source": [
    "p = gp.get_parameter_vector()\n",
    "\n",
    "initial = np.array([p[0],p[1],p[2]])\n",
    "print(\"Initial guesses: \",initial)\n",
    " \n",
    "# initial log(likelihood):\n",
    "init_logL = gp.log_likelihood(y_1) + gp.log_likelihood(y_2)\n",
    " \n",
    "# set the dimension of the prior volume\n",
    "# (i.e. how many parameters do you have?)\n",
    "ndim = len(initial)\n",
    "print(\"Number of parameters: \",ndim)\n",
    " \n",
    "nwalkers = 32\n",
    " \n",
    "p0 = [np.array(initial) + 1e-5 * np.random.randn(ndim)\n",
    "      for i in range(nwalkers)]\n",
    "\n",
    "# initalise the sampler:\n",
    "sampler = emcee.EnsembleSampler(nwalkers, ndim, lnprob, args=data)"
   ]
  },
  {
   "cell_type": "code",
   "execution_count": 88,
   "metadata": {},
   "outputs": [
    {
     "name": "stdout",
     "output_type": "stream",
     "text": [
      "Running burn-in\n",
      "Finished Burn-In\n"
     ]
    }
   ],
   "source": [
    "# run a few samples as a burn-in:\n",
    "print(\"Running burn-in\")\n",
    "p0, lnp, _ = sampler.run_mcmc(p0, 500)\n",
    "sampler.reset()\n",
    " \n",
    "print(\"Finished Burn-In\")"
   ]
  },
  {
   "cell_type": "code",
   "execution_count": 89,
   "metadata": {},
   "outputs": [
    {
     "name": "stdout",
     "output_type": "stream",
     "text": [
      "Running production\n",
      "Finished Production\n"
     ]
    }
   ],
   "source": [
    "# take the highest likelihood point from the burn-in as a\n",
    "# starting point and now begin your production run:\n",
    "print(\"Running production\")\n",
    "p = p0[np.argmax(lnp)]\n",
    "p0 = [p + 1e-5 * np.random.randn(ndim) for i in range(nwalkers)]\n",
    "p0, lnp, _ = sampler.run_mcmc(p0, 5000)\n",
    " \n",
    "print(\"Finished Production\")"
   ]
  },
  {
   "cell_type": "code",
   "execution_count": 90,
   "metadata": {},
   "outputs": [
    {
     "name": "stdout",
     "output_type": "stream",
     "text": [
      "Maximum likelihood parameters:  [1.47296733e-08 3.25996253e-01 3.88657195e-02]\n",
      "Period:  80.83196948355216  rad/m^2\n"
     ]
    }
   ],
   "source": [
    "# Find the maximum likelihood values:\n",
    "ml = p0[np.argmax(lnp)]\n",
    "print(\"Maximum likelihood parameters: \",np.exp(ml))\n",
    "print(\"Period: \",np.pi/np.exp(ml[2]),\" rad/m^2\")"
   ]
  },
  {
   "cell_type": "code",
   "execution_count": 91,
   "metadata": {},
   "outputs": [],
   "source": [
    "MLlnB = ml[0]\n",
    "MLlnC = ml[1]\n",
    "MLlnP = ml[2]"
   ]
  },
  {
   "cell_type": "code",
   "execution_count": 92,
   "metadata": {},
   "outputs": [
    {
     "name": "stdout",
     "output_type": "stream",
     "text": [
      "ML logL: 3088.3438265208756\n"
     ]
    }
   ],
   "source": [
    "p = np.array([MLlnB,MLlnC,MLlnP])\n",
    "gp.set_parameter_vector(p)\n",
    "ml_logL = gp.log_likelihood(y_1) + gp.log_likelihood(y_2)\n",
    "print(\"ML logL:\", ml_logL)"
   ]
  },
  {
   "cell_type": "code",
   "execution_count": 93,
   "metadata": {},
   "outputs": [],
   "source": [
    "gp.set_parameter_vector(p) #initially it was s, p works well\n",
    "\n",
    "mu, cov = gp.predict(y_1, t1) #return_cov=False)\n",
    "std = np.sqrt(np.diag(cov))\n",
    "\n",
    "mu1, cov1 = gp.predict(y_2, t1) #return_cov=False)\n",
    "std1 = np.sqrt(np.diag(cov1))"
   ]
  },
  {
   "cell_type": "code",
   "execution_count": 94,
   "metadata": {},
   "outputs": [
    {
     "data": {
      "image/png": "[encoded data removed]",
      "text/plain": [
       "<Figure size 432x288 with 1 Axes>"
      ]
     },
     "metadata": {
      "needs_background": "light"
     },
     "output_type": "display_data"
    }
   ],
   "source": [
    "ax = pl.subplot(111)\n",
    "\n",
    "pl.plot(t1,mu, linestyle='none', marker='.', color = 'red')\n",
    "pl.plot(t1,mu1, linestyle='none', marker='.', color = 'red')\n",
    "\n",
    "pl.plot(lam2_R,stokesQ_R, linestyle='none', marker='.', color = 'darkblue')\n",
    "pl.plot(lam2_R,stokesU_R, linestyle='none', marker='.', color = 'darkorange')\n",
    "\n",
    "ax.fill_between(t1,mu-std,mu+std, facecolor='lightgray') #, lw=0, interpolate=True)\n",
    "ax.fill_between(t1,mu1-std1,mu1+std1, facecolor='lightgray')\n",
    "\n",
    "pl. title('Maximum likelihood prediction')\n",
    "pl.ylabel('stokes parameters ')\n",
    "pl.xlabel('$\\lambda^2 [m^2]$')\n",
    "\n",
    "pl.show()"
   ]
  },
  {
   "cell_type": "code",
   "execution_count": 95,
   "metadata": {},
   "outputs": [
    {
     "data": {
      "image/png": "[encoded data removed]",
      "text/plain": [
       "<Figure size 547.2x547.2 with 9 Axes>"
      ]
     },
     "metadata": {
      "needs_background": "light"
     },
     "output_type": "display_data"
    }
   ],
   "source": [
    "samples = sampler.chain[:, 100:, :].reshape((-1, ndim))\n",
    "#samples = sampler.flatchain\n",
    "\n",
    "figure = corner.corner(samples, labels=[r\"$\\ln\\,A$\", r\"$\\ln\\,C$\", r\"$\\ln\\,P$\"],\n",
    "                         truths=ml,\n",
    "                         quantiles=[0.16,0.5,0.84],\n",
    "                         levels=[0.19,0.86,0.99],\n",
    "                         title=\"Faraday Thin\",\n",
    "                         show_titles=True, title_args={\"fontsize\": 10})"
   ]
  },
  {
   "cell_type": "markdown",
   "metadata": {},
   "source": [
    "---\n",
    "\n",
    "Calculate information criteria:"
   ]
  },
  {
   "cell_type": "code",
   "execution_count": 34,
   "metadata": {},
   "outputs": [],
   "source": [
    "def calc_BIC(L,K,N):\n",
    "    \n",
    "    bic = -2.*L + K*np.log(N)\n",
    "    \n",
    "    return bic"
   ]
  },
  {
   "cell_type": "code",
   "execution_count": 35,
   "metadata": {},
   "outputs": [],
   "source": [
    "def calc_AIC(L,K):\n",
    "    \n",
    "    aic = 2.*K - 2.*L\n",
    "    \n",
    "    return aic"
   ]
  },
  {
   "cell_type": "code",
   "execution_count": 36,
   "metadata": {},
   "outputs": [],
   "source": [
    "def calc_AICc(L,K,N):\n",
    "    \n",
    "    aic = calc_AIC(L,K)\n",
    "    aicc= aic - 2.*K*(K+1)/(N - K - 1)\n",
    "    \n",
    "    return aicc"
   ]
  },
  {
   "cell_type": "code",
   "execution_count": 37,
   "metadata": {},
   "outputs": [
    {
     "name": "stdout",
     "output_type": "stream",
     "text": [
      "BIC :  -6246.088879980551\n",
      "AIC :  -6256.884145857546\n",
      "AICc:  -6256.9743714214555\n"
     ]
    }
   ],
   "source": [
    "print(\"BIC : \",calc_BIC(ml_logL,ndim,2*len(lam2_R)))\n",
    "print(\"AIC : \",calc_AIC(ml_logL,ndim))\n",
    "print(\"AICc: \",calc_AICc(ml_logL,ndim,2*len(lam2_R)))"
   ]
  },
  {
   "cell_type": "code",
   "execution_count": null,
   "metadata": {},
   "outputs": [],
   "source": []
  }
 ],
 "metadata": {
  "kernelspec": {
   "display_name": "Python 3",
   "language": "python",
   "name": "python3"
  },
  "language_info": {
   "codemirror_mode": {
    "name": "ipython",
    "version": 3
   },
   "file_extension": ".py",
   "mimetype": "text/x-python",
   "name": "python",
   "nbconvert_exporter": "python",
   "pygments_lexer": "ipython3",
   "version": "3.6.7"
  }
 },
 "nbformat": 4,
 "nbformat_minor": 2
}
